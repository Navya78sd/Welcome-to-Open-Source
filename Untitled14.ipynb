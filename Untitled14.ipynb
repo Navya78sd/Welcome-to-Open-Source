{
  "nbformat": 4,
  "nbformat_minor": 0,
  "metadata": {
    "colab": {
      "provenance": [],
      "authorship_tag": "ABX9TyPWVVWCpLXMsfTLlq4EzYjK",
      "include_colab_link": true
    },
    "kernelspec": {
      "name": "python3",
      "display_name": "Python 3"
    },
    "language_info": {
      "name": "python"
    }
  },
  "cells": [
    {
      "cell_type": "markdown",
      "metadata": {
        "id": "view-in-github",
        "colab_type": "text"
      },
      "source": [
        "<a href=\"https://colab.research.google.com/github/Navya78sd/Welcome-to-Open-Source/blob/master/Untitled14.ipynb\" target=\"_parent\"><img src=\"https://colab.research.google.com/assets/colab-badge.svg\" alt=\"Open In Colab\"/></a>"
      ]
    },
    {
      "cell_type": "code",
      "execution_count": 2,
      "metadata": {
        "colab": {
          "base_uri": "https://localhost:8080/",
          "height": 452
        },
        "id": "Em204Q9QqmRT",
        "outputId": "50573dca-31c1-4862-9999-15e1a92fdf8e"
      },
      "outputs": [
        {
          "output_type": "display_data",
          "data": {
            "text/plain": [
              "<Figure size 640x480 with 1 Axes>"
            ],
            "image/png": "[encoded data removed]"
          },
          "metadata": {}
        }
      ],
      "source": [
        "import numpy as np\n",
        "import matplotlib.pyplot as plt\n",
        "import matplotlib.animation as animation\n",
        "\n",
        "def initialize_grid(size, prob_alive=0.2):\n",
        "\n",
        "    return np.random.choice([0, 1], size=size, p=[1-prob_alive, prob_alive])\n",
        "\n",
        "def update(grid):\n",
        "\n",
        "    neighbors = (np.roll(np.roll(grid, 1, 0), 1, 1) +\n",
        "                 np.roll(np.roll(grid, 1, 0), 0, 1) +\n",
        "                 np.roll(np.roll(grid, 1, 0), -1, 1) +\n",
        "                 np.roll(np.roll(grid, 0, 0), 1, 1) +\n",
        "                 np.roll(np.roll(grid, 0, 0), -1, 1) +\n",
        "                 np.roll(np.roll(grid, -1, 0), 1, 1) +\n",
        "                 np.roll(np.roll(grid, -1, 0), 0, 1) +\n",
        "                 np.roll(np.roll(grid, -1, 0), -1, 1))\n",
        "\n",
        "\n",
        "    new_grid = ((grid == 1) & ((neighbors == 2) | (neighbors == 3))) | ((grid == 0) & (neighbors == 3))\n",
        "\n",
        "    return new_grid.astype(int)\n",
        "\n",
        "\n",
        "grid_size = (50, 50)\n",
        "grid = initialize_grid(grid_size, prob_alive=0.2)\n",
        "\n",
        "\n",
        "fig, ax = plt.subplots()\n",
        "img = ax.imshow(grid, interpolation='nearest', cmap='binary')\n",
        "ax.set_title(\"Conway's Game of Life\")\n",
        "\n",
        "def animate(frame):\n",
        "    global grid\n",
        "    grid = update(grid)\n",
        "    img.set_data(grid)\n",
        "    return [img]\n",
        "\n",
        "ani = animation.FuncAnimation(fig, animate, frames=200, interval=100, blit=True)\n",
        "plt.show()\n"
      ]
    }
  ]
}